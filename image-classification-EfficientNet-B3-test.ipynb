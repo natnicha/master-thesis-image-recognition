{
 "cells": [
  {
   "cell_type": "code",
   "execution_count": null,
   "metadata": {},
   "outputs": [],
   "source": [
    "import torch\n",
    "import torchvision\n",
    "import torchvision.transforms as transforms\n",
    "from torchvision.models import efficientnet_b3, EfficientNet_B3_Weights\n",
    "\n",
    "transform = transforms.Compose(\n",
    "    [transforms.ToTensor(),\n",
    "     transforms.Normalize((0.5, 0.5, 0.5), (0.5, 0.5, 0.5))])\n",
    "\n",
    "batch_size = 4 \n",
    "\n",
    "testset = torchvision.datasets.CIFAR10(root='./dataset', train=False,\n",
    "                                       download=True, transform=transform)\n",
    "testloader = torch.utils.data.DataLoader(testset, batch_size=batch_size,\n",
    "                                         shuffle=False, num_workers=2)\n",
    "\n",
    "classes = ('plane', 'car', 'bird', 'cat',\n",
    "           'deer', 'dog', 'frog', 'horse', 'ship', 'truck')\n"
   ]
  },
  {
   "cell_type": "code",
   "execution_count": null,
   "metadata": {},
   "outputs": [],
   "source": [
    "from PIL import Image\n",
    "import glob\n",
    "image_list = {}\n",
    "for filename in glob.glob('./dataset/animal/*/*.jpg'):\n",
    "    im=Image.open(filename)\n",
    "    image_list[filename] = im"
   ]
  },
  {
   "cell_type": "code",
   "execution_count": null,
   "metadata": {},
   "outputs": [],
   "source": [
    "\n",
    "# Step 1: Initialize model with the best available weights\n",
    "weights = EfficientNet_B3_Weights.DEFAULT\n",
    "model = efficientnet_b3(weights=weights)\n",
    "model.eval()\n",
    "\n",
    "# # Step 2: Initialize the inference transforms\n",
    "preprocess = weights.transforms()\n"
   ]
  },
  {
   "cell_type": "code",
   "execution_count": null,
   "metadata": {},
   "outputs": [],
   "source": [
    "correct_pred = {classname: 0 for classname in weights.meta[\"categories\"]}\n",
    "total_pred = {classname: 0 for classname in weights.meta[\"categories\"]}\n",
    "# again no gradients needed\n",
    "with torch.no_grad():\n",
    "    for i, data in enumerate(testloader):\n",
    "        if i == 8:\n",
    "            break\n",
    "        images, labels = data\n",
    "        # outputs = net(images)\n",
    "\n",
    "        # # Step 3: Apply inference preprocessing transforms\n",
    "        batch = preprocess(images).unsqueeze(0)\n",
    "        \n",
    "        # Step 4: Use the model and print the predicted category\n",
    "        prediction = model(images).squeeze(0).softmax(0)\n",
    "        class_id = prediction.argmax().item()\n",
    "        predicted = weights.meta[\"categories\"][class_id]\n",
    "\n",
    "        # collect the correct predictions for each class\n",
    "        for label, prediction in zip(labels, predicted):\n",
    "            if label == prediction:\n",
    "                correct_pred[classes[label]] += 1\n",
    "            total_pred[classes[label]] += 1\n",
    "        \n",
    "        if i % 2000 == 1999:    # print every 2000 iterations\n",
    "            print(f'[{i + 1:5d}]')\n"
   ]
  },
  {
   "cell_type": "code",
   "execution_count": null,
   "metadata": {},
   "outputs": [],
   "source": [
    "\n",
    "# print accuracy for each class\n",
    "for classname, correct_count in correct_pred.items():\n",
    "    accuracy = 100 * float(correct_count) / total_pred[classname]\n",
    "    print(f'Accuracy for class: {classname:5s} is {accuracy:.1f} %')"
   ]
  },
  {
   "cell_type": "code",
   "execution_count": null,
   "metadata": {},
   "outputs": [],
   "source": [
    "class_id"
   ]
  },
  {
   "cell_type": "code",
   "execution_count": null,
   "metadata": {},
   "outputs": [],
   "source": [
    " len(weights.meta[\"categories\"])"
   ]
  },
  {
   "cell_type": "code",
   "execution_count": null,
   "metadata": {},
   "outputs": [],
   "source": []
  }
 ],
 "metadata": {
  "kernelspec": {
   "display_name": "master-thesis-image-recognition-gR5X6Ogl",
   "language": "python",
   "name": "python3"
  },
  "language_info": {
   "codemirror_mode": {
    "name": "ipython",
    "version": 3
   },
   "file_extension": ".py",
   "mimetype": "text/x-python",
   "name": "python",
   "nbconvert_exporter": "python",
   "pygments_lexer": "ipython3",
   "version": "3.9.12"
  }
 },
 "nbformat": 4,
 "nbformat_minor": 2
}
